{
 "cells": [
  {
   "cell_type": "code",
   "execution_count": 1,
   "id": "539fd9f1",
   "metadata": {},
   "outputs": [],
   "source": [
    "using LinearAlgebra"
   ]
  },
  {
   "cell_type": "code",
   "execution_count": 2,
   "id": "7d1dbbd3",
   "metadata": {},
   "outputs": [
    {
     "data": {
      "text/plain": [
       "lagrange_basis (generic function with 3 methods)"
      ]
     },
     "execution_count": 2,
     "metadata": {},
     "output_type": "execute_result"
    }
   ],
   "source": [
    "function lagrange_basis(geom=\"triangular\", order=1)\n",
    "    if (geom == \"triangular\" && order == 1)\n",
    "        # basis functions\n",
    "        ϕ₁(x, y) = 1 - x - y\n",
    "        ϕ₂(x, y) = x\n",
    "        ϕ₃(x, y) = y\n",
    "        ϕ = (ϕ₁, ϕ₂, ϕ₃)\n",
    "        \n",
    "        # gradients\n",
    "        ∇ϕ₁(x, y) = [-1, -1]\n",
    "        ∇ϕ₂(x, y) = [1, 0]\n",
    "        ∇ϕ₃(x, y) = [0, 1]\n",
    "        ∇ϕ = (∇ϕ₁, ∇ϕ₂, ∇ϕ₃)\n",
    "        \n",
    "        # quadrature nodes and weights\n",
    "        x₁ = [0.5, 0]\n",
    "        x₂ = [0, 0.5]\n",
    "        x₃ = [0.5, 0.5]        \n",
    "        nodes = (x₁, x₂, x₃)\n",
    "        weights = (1/6, 1/6, 1/6)\n",
    "    end\n",
    "    \n",
    "    return ϕ, ∇ϕ, nodes, weights\n",
    "end"
   ]
  },
  {
   "cell_type": "code",
   "execution_count": 3,
   "id": "7463fe26",
   "metadata": {},
   "outputs": [
    {
     "data": {
      "text/plain": [
       "quadrature (generic function with 1 method)"
      ]
     },
     "execution_count": 3,
     "metadata": {},
     "output_type": "execute_result"
    }
   ],
   "source": [
    "function quadrature(fun, nodes, weights)\n",
    "    rv = 0\n",
    "    for (i, n) in enumerate(nodes)\n",
    "        rv += fun(n[1], n[2]) * weights[i]\n",
    "    end\n",
    "    return rv\n",
    "end"
   ]
  },
  {
   "cell_type": "code",
   "execution_count": 4,
   "id": "024efa34",
   "metadata": {},
   "outputs": [
    {
     "data": {
      "text/plain": [
       "element_affine_map (generic function with 1 method)"
      ]
     },
     "execution_count": 4,
     "metadata": {},
     "output_type": "execute_result"
    }
   ],
   "source": [
    "function element_affine_map(x; v₁=[1 1], v₂=[1 0], v₃=[0 1])\n",
    "    return (v₂ - v₁) * x[1] + (v₃ - v₁) * x[2] + v₁\n",
    "end"
   ]
  },
  {
   "cell_type": "code",
   "execution_count": 5,
   "id": "95eeb059",
   "metadata": {},
   "outputs": [
    {
     "data": {
      "text/plain": [
       "f (generic function with 1 method)"
      ]
     },
     "execution_count": 5,
     "metadata": {},
     "output_type": "execute_result"
    }
   ],
   "source": [
    "ϕ, ∇ϕ, nodes, weights = lagrange_basis()\n",
    "f(x, y) = x^2 + x*y + y^2"
   ]
  },
  {
   "cell_type": "code",
   "execution_count": 6,
   "id": "ca14d5b9",
   "metadata": {},
   "outputs": [
    {
     "data": {
      "text/plain": [
       "0.9166666666666665"
      ]
     },
     "execution_count": 6,
     "metadata": {},
     "output_type": "execute_result"
    }
   ],
   "source": [
    "quadrature(f, element_affine_map.(nodes), weights) + quadrature(f, nodes, weights)"
   ]
  },
  {
   "cell_type": "code",
   "execution_count": 7,
   "id": "6d897a74",
   "metadata": {},
   "outputs": [
    {
     "data": {
      "text/latex": [
       "$\\begin{equation*}\\frac{11}{12}\\end{equation*}$\n"
      ],
      "text/plain": [
       "11\n",
       "──\n",
       "12"
      ]
     },
     "execution_count": 7,
     "metadata": {},
     "output_type": "execute_result"
    }
   ],
   "source": [
    "using SymPy\n",
    "x, y = Sym(\"x, y\")\n",
    "integrate(x^2 + x*y + y^2, (x, 0, 1), (y, 0, 1))"
   ]
  },
  {
   "cell_type": "code",
   "execution_count": 8,
   "id": "231d5e21",
   "metadata": {},
   "outputs": [
    {
     "data": {
      "text/plain": [
       "get_local_matrix (generic function with 1 method)"
      ]
     },
     "execution_count": 8,
     "metadata": {},
     "output_type": "execute_result"
    }
   ],
   "source": [
    "function get_local_matrix(∇ϕ)\n",
    "    n = length(∇ϕ)\n",
    "    rv = zeros(n, n)\n",
    "    for i ∈ 1:n\n",
    "        for j ∈ 1:n\n",
    "            phi(x, y) = dot(∇ϕ[i](x, y), ∇ϕ[j](x, y))\n",
    "            rv[i, j] = quadrature(phi, nodes, weights)\n",
    "        end\n",
    "    end\n",
    "    return rv\n",
    "end"
   ]
  },
  {
   "cell_type": "code",
   "execution_count": 25,
   "id": "26fbd317",
   "metadata": {},
   "outputs": [
    {
     "data": {
      "text/plain": [
       "solve_poisson_dirichlet (generic function with 1 method)"
      ]
     },
     "execution_count": 25,
     "metadata": {},
     "output_type": "execute_result"
    }
   ],
   "source": [
    "function solve_poisson_dirichlet(fun, p, simplices, border)\n",
    "    rv = zeros(length(p))\n",
    "    for element ∈ eachrow(simplices)\n",
    "        v₁ = p[element[1], :]\n",
    "        v₂ = p[element[2], :]\n",
    "        v₃ = p[element[3], :]\n",
    "        jacobian = abs(det([v₂-v₁ v₃-v₁]))\n",
    "        rhs_fun_1(xy) = fun(element_affine_map.(xy, v₁=v₁, v₂=v₂, v₃=v₃)) * ϕ[1](xy[1], xy[2])\n",
    "        rhs_fun_2(xy) = fun(element_affine_map.(xy, v₁=v₁, v₂=v₂, v₃=v₃)) * ϕ[2](xy[1], xy[2])\n",
    "        rhs_fun_3(xy) = fun(element_affine_map.(xy, v₁=v₁, v₂=v₂, v₃=v₃)) * ϕ[3](xy[1], xy[2])\n",
    "        rv[element[1]] += quadrature(rhs_fun_1, nodes, weights) * jacobian\n",
    "        rv[element[2]] += quadrature(rhs_fun_2, nodes, weights) * jacobian\n",
    "        rv[element[3]] += quadrature(rhs_fun_3, nodes, weights) * jacobian\n",
    "    end\n",
    "    return rhs_vector\n",
    "end"
   ]
  },
  {
   "cell_type": "code",
   "execution_count": 26,
   "id": "24186e6a",
   "metadata": {},
   "outputs": [
    {
     "data": {
      "text/plain": [
       "1×4 Matrix{Int64}:\n",
       " 1  2  3  4"
      ]
     },
     "execution_count": 26,
     "metadata": {},
     "output_type": "execute_result"
    }
   ],
   "source": [
    "P = [0 0; 0 1; 1 1; 1 0; 1/2 1/2]\n",
    "Simplices = [1 5 4; 5 3 4; 5 2 3; 1 5 2]\n",
    "Bd = [1 2 3 4]"
   ]
  },
  {
   "cell_type": "code",
   "execution_count": 27,
   "id": "3b39686a",
   "metadata": {},
   "outputs": [
    {
     "ename": "LoadError",
     "evalue": "MethodError: no method matching (::var\"#rhs_fun_1#32\"{var\"#35#36\", Vector{Float64}, Vector{Float64}, Vector{Float64}})(::Float64, ::Float64)\n\u001b[0mClosest candidates are:\n\u001b[0m  (::var\"#rhs_fun_1#32\")(::Any) at In[25]:8",
     "output_type": "error",
     "traceback": [
      "MethodError: no method matching (::var\"#rhs_fun_1#32\"{var\"#35#36\", Vector{Float64}, Vector{Float64}, Vector{Float64}})(::Float64, ::Float64)\n\u001b[0mClosest candidates are:\n\u001b[0m  (::var\"#rhs_fun_1#32\")(::Any) at In[25]:8",
      "",
      "Stacktrace:",
      " [1] quadrature(fun::var\"#rhs_fun_1#32\"{var\"#35#36\", Vector{Float64}, Vector{Float64}, Vector{Float64}}, nodes::Tuple{Vector{Float64}, Vector{Float64}, Vector{Float64}}, weights::Tuple{Float64, Float64, Float64})",
      "   @ Main ./In[3]:4",
      " [2] solve_poisson_dirichlet(fun::var\"#35#36\", p::Matrix{Float64}, simplices::Matrix{Int64}, border::Matrix{Int64})",
      "   @ Main ./In[25]:11",
      " [3] top-level scope",
      "   @ In[27]:1",
      " [4] eval",
      "   @ ./boot.jl:360 [inlined]",
      " [5] include_string(mapexpr::typeof(REPL.softscope), mod::Module, code::String, filename::String)",
      "   @ Base ./loading.jl:1116"
     ]
    }
   ],
   "source": [
    "solve_poisson_dirichlet(x->1, P, Simplices, Bd)"
   ]
  },
  {
   "cell_type": "code",
   "execution_count": null,
   "id": "77eff878",
   "metadata": {},
   "outputs": [],
   "source": []
  }
 ],
 "metadata": {
  "kernelspec": {
   "display_name": "Julia 1.6.3",
   "language": "julia",
   "name": "julia-1.6"
  },
  "language_info": {
   "file_extension": ".jl",
   "mimetype": "application/julia",
   "name": "julia",
   "version": "1.6.3"
  }
 },
 "nbformat": 4,
 "nbformat_minor": 5
}
