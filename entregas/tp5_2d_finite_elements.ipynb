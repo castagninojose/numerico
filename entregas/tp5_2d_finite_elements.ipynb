{
 "cells": [
  {
   "cell_type": "code",
   "execution_count": 1,
   "id": "539fd9f1",
   "metadata": {},
   "outputs": [],
   "source": [
    "using LinearAlgebra"
   ]
  },
  {
   "cell_type": "code",
   "execution_count": 2,
   "id": "7d1dbbd3",
   "metadata": {},
   "outputs": [
    {
     "data": {
      "text/plain": [
       "lagrange_basis (generic function with 3 methods)"
      ]
     },
     "execution_count": 2,
     "metadata": {},
     "output_type": "execute_result"
    }
   ],
   "source": [
    "function lagrange_basis(geom=\"triangular\", order=1)\n",
    "    if (geom == \"triangular\" && order == 1)\n",
    "        # basis functions\n",
    "        ϕ₁(x, y) = 1 - x - y\n",
    "        ϕ₂(x, y) = x\n",
    "        ϕ₃(x, y) = y\n",
    "        ϕ = (ϕ₁, ϕ₂, ϕ₃)\n",
    "        \n",
    "        # gradients\n",
    "        ∇ϕ₁(x, y) = [-1, -1]\n",
    "        ∇ϕ₂(x, y) = [1, 0]\n",
    "        ∇ϕ₃(x, y) = [0, 1]\n",
    "        ∇ϕ = (∇ϕ₁, ∇ϕ₂, ∇ϕ₃)\n",
    "        \n",
    "        # quadrature nodes and weights\n",
    "        x₁ = [0.5, 0]\n",
    "        x₂ = [0, 0.5]\n",
    "        x₃ = [0.5, 0.5]        \n",
    "        nodes = (x₁, x₂, x₃)\n",
    "        weights = (1/6, 1/6, 1/6)\n",
    "    end\n",
    "    \n",
    "    return ϕ, ∇ϕ, nodes, weights\n",
    "end"
   ]
  },
  {
   "cell_type": "code",
   "execution_count": 3,
   "id": "7463fe26",
   "metadata": {},
   "outputs": [
    {
     "data": {
      "text/plain": [
       "quadrature (generic function with 1 method)"
      ]
     },
     "execution_count": 3,
     "metadata": {},
     "output_type": "execute_result"
    }
   ],
   "source": [
    "function quadrature(fun, nodes, weights)\n",
    "    rv = 0\n",
    "    for (i, n) in enumerate(nodes)\n",
    "        rv += fun(n[1], n[2]) * weights[i]\n",
    "    end\n",
    "    return rv\n",
    "end"
   ]
  },
  {
   "cell_type": "code",
   "execution_count": 4,
   "id": "024efa34",
   "metadata": {},
   "outputs": [
    {
     "data": {
      "text/plain": [
       "element_affine_map (generic function with 1 method)"
      ]
     },
     "execution_count": 4,
     "metadata": {},
     "output_type": "execute_result"
    }
   ],
   "source": [
    "function element_affine_map(x; v₁=[1 1], v₂=[1 0], v₃=[0 1])\n",
    "    return (v₂ - v₁) * x[1] + (v₃ - v₁) * x[2] + v₁\n",
    "end"
   ]
  },
  {
   "cell_type": "code",
   "execution_count": 8,
   "id": "95eeb059",
   "metadata": {},
   "outputs": [
    {
     "data": {
      "text/plain": [
       "f (generic function with 1 method)"
      ]
     },
     "execution_count": 8,
     "metadata": {},
     "output_type": "execute_result"
    }
   ],
   "source": [
    "_, ∇ϕ, nodes, weights = lagrange_basis()\n",
    "f(x, y) = x^2 + x*y + y^2"
   ]
  },
  {
   "cell_type": "code",
   "execution_count": 6,
   "id": "ca14d5b9",
   "metadata": {},
   "outputs": [
    {
     "data": {
      "text/plain": [
       "0.9166666666666665"
      ]
     },
     "execution_count": 6,
     "metadata": {},
     "output_type": "execute_result"
    }
   ],
   "source": [
    "quadrature(f, element_affine_map.(nodes), weights) + quadrature(f, nodes, weights)"
   ]
  },
  {
   "cell_type": "code",
   "execution_count": 7,
   "id": "6d897a74",
   "metadata": {},
   "outputs": [
    {
     "data": {
      "text/latex": [
       "$\\begin{equation*}\\frac{11}{12}\\end{equation*}$\n"
      ],
      "text/plain": [
       "11\n",
       "──\n",
       "12"
      ]
     },
     "execution_count": 7,
     "metadata": {},
     "output_type": "execute_result"
    }
   ],
   "source": [
    "using SymPy\n",
    "x, y = Sym(\"x, y\")\n",
    "integrate(x^2 + x*y + y^2, (x, 0, 1), (y, 0, 1))"
   ]
  },
  {
   "cell_type": "code",
   "execution_count": 26,
   "id": "31857aea",
   "metadata": {},
   "outputs": [
    {
     "data": {
      "text/plain": [
       "get_local_matrix (generic function with 1 method)"
      ]
     },
     "execution_count": 26,
     "metadata": {},
     "output_type": "execute_result"
    }
   ],
   "source": [
    "function get_local_matrix(∇ϕ)\n",
    "    n = length(∇ϕ)\n",
    "    rv = zeros(n, n)\n",
    "    for i ∈ 1:n\n",
    "        for j ∈ 1:n\n",
    "            phi(x, y) = dot(∇ϕ[i](x, y), ∇ϕ[j](x, y))\n",
    "            rv[i, j] = quadrature(phi, nodes, weights)\n",
    "        end\n",
    "    end\n",
    "    return rv\n",
    "end"
   ]
  },
  {
   "cell_type": "code",
   "execution_count": 27,
   "id": "6bf4984b",
   "metadata": {},
   "outputs": [
    {
     "data": {
      "text/plain": [
       "3×3 Matrix{Float64}:\n",
       "  1.0  -0.5  -0.5\n",
       " -0.5   0.5   0.0\n",
       " -0.5   0.0   0.5"
      ]
     },
     "execution_count": 27,
     "metadata": {},
     "output_type": "execute_result"
    }
   ],
   "source": [
    "get_local_matrix(∇ϕ)"
   ]
  },
  {
   "cell_type": "code",
   "execution_count": null,
   "id": "c97ed653",
   "metadata": {},
   "outputs": [],
   "source": []
  }
 ],
 "metadata": {
  "kernelspec": {
   "display_name": "Julia 1.6.3",
   "language": "julia",
   "name": "julia-1.6"
  },
  "language_info": {
   "file_extension": ".jl",
   "mimetype": "application/julia",
   "name": "julia",
   "version": "1.6.3"
  }
 },
 "nbformat": 4,
 "nbformat_minor": 5
}
