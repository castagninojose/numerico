{
 "cells": [
  {
   "cell_type": "code",
   "execution_count": 1,
   "id": "8a05d12d",
   "metadata": {},
   "outputs": [],
   "source": [
    "using LinearAlgebra\n",
    "using Plots"
   ]
  },
  {
   "cell_type": "code",
   "execution_count": 13,
   "id": "f1e2a66c",
   "metadata": {},
   "outputs": [
    {
     "data": {
      "text/plain": [
       "get_nodes_ix (generic function with 1 method)"
      ]
     },
     "execution_count": 13,
     "metadata": {},
     "output_type": "execute_result"
    }
   ],
   "source": [
    "function get_nodes_ix(nodes, nelem)\n",
    "    ix = zeros(nodes)\n",
    "    for i in 1:nodes\n",
    "        ix[i] = (nodes - 1) * (nelem - 1) + i\n",
    "    end\n",
    "    return map(y -> round(Int,y), ix)  # to avoid float indices.\n",
    "end"
   ]
  },
  {
   "cell_type": "code",
   "execution_count": 14,
   "id": "1fee1e2d",
   "metadata": {},
   "outputs": [
    {
     "data": {
      "text/plain": [
       "simpson_rule_l (generic function with 1 method)"
      ]
     },
     "execution_count": 14,
     "metadata": {},
     "output_type": "execute_result"
    }
   ],
   "source": [
    "function simpson_rule_l(i, j)\n",
    "    \n",
    "    ϕ_diff_0 = x -> -1\n",
    "    ϕ_diff_1 = x -> 1\n",
    "    elem_diff = [ϕ_diff_0 ϕ_diff_1]\n",
    "    \n",
    "    q = [0 1/2 1]\n",
    "    w = [1/6 4/6 1/6]\n",
    "    rv = 0\n",
    "    for k in 1:3\n",
    "        rv = rv + elem_diff[i](q[k]) * elem_diff[j](q[k]) * w[k]\n",
    "    end\n",
    "\n",
    "    return rv\n",
    "end"
   ]
  },
  {
   "cell_type": "code",
   "execution_count": 15,
   "id": "ca9ab09e",
   "metadata": {},
   "outputs": [
    {
     "data": {
      "text/plain": [
       "simpson_rule_f (generic function with 2 methods)"
      ]
     },
     "execution_count": 15,
     "metadata": {},
     "output_type": "execute_result"
    }
   ],
   "source": [
    "function simpson_rule_f(i, j, fun, h)\n",
    "    q = [0 1/2 1]\n",
    "    return fun(i*h + q[j]*h) * h\n",
    "end"
   ]
  },
  {
   "cell_type": "code",
   "execution_count": 16,
   "id": "c435ac2e",
   "metadata": {},
   "outputs": [
    {
     "data": {
      "text/plain": [
       "ith_rhs (generic function with 2 methods)"
      ]
     },
     "execution_count": 16,
     "metadata": {},
     "output_type": "execute_result"
    }
   ],
   "source": [
    "function ith_rhs(i, fun, h)\n",
    "    rv = 0\n",
    "    for j in 1:3\n",
    "        rv = rv + simpson_rule_f(i, j, fun, h)\n",
    "    end\n",
    "    return rv\n",
    "end"
   ]
  },
  {
   "cell_type": "code",
   "execution_count": 22,
   "id": "c3cccd09",
   "metadata": {},
   "outputs": [
    {
     "data": {
      "text/plain": [
       "finite_elements (generic function with 1 method)"
      ]
     },
     "execution_count": 22,
     "metadata": {},
     "output_type": "execute_result"
    }
   ],
   "source": [
    "function finite_elements(nelem, fun)\n",
    "    h = 1/nelem\n",
    "    f = x -> 1\n",
    "    F = zeros(nelem + 1)\n",
    "    # local matrix\n",
    "    nodes_by_element = 2\n",
    "    local_matrix = zeros(nodes_by_element, nodes_by_element)\n",
    "    for i in 1:nodes_by_element, j in 1:nodes_by_element\n",
    "        local_matrix[i, j] = simpson_rule_l(i, j)\n",
    "    end\n",
    "\n",
    "    # global matrix\n",
    "    global_matrix = zeros(nelem+1, nelem+1)\n",
    "    for i in 1:nelem\n",
    "        nodes_ix = get_nodes_ix(nodes_by_element, i)\n",
    "        i1, i2 = nodes_ix[1], nodes_ix[2]\n",
    "        global_matrix[i1:i2, i1:i2] = global_matrix[i1:i2, i1:i2] + local_matrix\n",
    "\n",
    "        fi = ith_rhs(i, f, h)\n",
    "        F[i] = F[i] .+ fi\n",
    "    end\n",
    "    F[1], F[end] = 0, 0\n",
    "    global_matrix = global_matrix .* h\n",
    "    \n",
    "    # border conditions\n",
    "    global_matrix[2:end, 1] .= 0\n",
    "    global_matrix[1, 2:end] .= 0\n",
    "    global_matrix[1, 1] = 1\n",
    "    \n",
    "    global_matrix[1:end-1, end] .= 0\n",
    "    global_matrix[end, 1:end-1] .= 0\n",
    "    global_matrix[end, end] = 1\n",
    "    return global_matrix\n",
    "end"
   ]
  },
  {
   "cell_type": "code",
   "execution_count": 27,
   "id": "6844f2f6",
   "metadata": {},
   "outputs": [
    {
     "name": "stdout",
     "output_type": "stream",
     "text": [
      "[0.0, 0.75, 0.75, 0.75, 0.0]"
     ]
    },
    {
     "data": {
      "text/plain": [
       "5×5 Matrix{Float64}:\n",
       " 1.0   0.0    0.0    0.0   0.0\n",
       " 0.0   0.5   -0.25   0.0   0.0\n",
       " 0.0  -0.25   0.5   -0.25  0.0\n",
       " 0.0   0.0   -0.25   0.5   0.0\n",
       " 0.0   0.0    0.0    0.0   1.0"
      ]
     },
     "execution_count": 27,
     "metadata": {},
     "output_type": "execute_result"
    }
   ],
   "source": [
    "finite_elements(4, 0)"
   ]
  },
  {
   "cell_type": "code",
   "execution_count": null,
   "id": "27edb980",
   "metadata": {},
   "outputs": [],
   "source": []
  }
 ],
 "metadata": {
  "kernelspec": {
   "display_name": "Julia 1.6.3",
   "language": "julia",
   "name": "julia-1.6"
  },
  "language_info": {
   "file_extension": ".jl",
   "mimetype": "application/julia",
   "name": "julia",
   "version": "1.6.3"
  }
 },
 "nbformat": 4,
 "nbformat_minor": 5
}
