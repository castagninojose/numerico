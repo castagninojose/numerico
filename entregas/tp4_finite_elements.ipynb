{
 "cells": [
  {
   "cell_type": "markdown",
   "id": "20bbb021",
   "metadata": {},
   "source": [
    "# <center>Trabajo práctico N°4</center>"
   ]
  },
  {
   "cell_type": "code",
   "execution_count": 2,
   "id": "8a05d12d",
   "metadata": {},
   "outputs": [],
   "source": [
    "using LinearAlgebra\n",
    "using Plots\n",
    "# using SymPy"
   ]
  },
  {
   "cell_type": "code",
   "execution_count": 46,
   "id": "f1e2a66c",
   "metadata": {},
   "outputs": [
    {
     "data": {
      "text/plain": [
       "get_nodes_ix (generic function with 1 method)"
      ]
     },
     "execution_count": 46,
     "metadata": {},
     "output_type": "execute_result"
    }
   ],
   "source": [
    "function get_nodes_ix(nodes, nelem)\n",
    "    ix = zeros(nodes)\n",
    "    for i in 1:nodes\n",
    "        ix[i] = (nodes - 1) * (nelem - 1) + i\n",
    "    end\n",
    "    return map(y -> round(Int,y), ix)  # to avoid float indices.\n",
    "end"
   ]
  },
  {
   "cell_type": "code",
   "execution_count": 47,
   "id": "1fee1e2d",
   "metadata": {},
   "outputs": [
    {
     "data": {
      "text/plain": [
       "simpson_rule_l (generic function with 2 methods)"
      ]
     },
     "execution_count": 47,
     "metadata": {},
     "output_type": "execute_result"
    }
   ],
   "source": [
    "function simpson_rule_l(i, j, ϕ_prime)\n",
    "    q = [0 1/2 1]\n",
    "    weights = [1/6 4/6 1/6]\n",
    "    rv = 0\n",
    "    for k in 1:3\n",
    "        rv = rv + ϕ_prime[i](q[k]) * ϕ_prime[j](q[k]) * weights[k]\n",
    "    end\n",
    "    return rv\n",
    "end"
   ]
  },
  {
   "cell_type": "code",
   "execution_count": 49,
   "id": "ca9ab09e",
   "metadata": {},
   "outputs": [
    {
     "data": {
      "text/plain": [
       "simpson_rule_f (generic function with 2 methods)"
      ]
     },
     "execution_count": 49,
     "metadata": {},
     "output_type": "execute_result"
    }
   ],
   "source": [
    "function simpson_rule_f(k, fun, h)\n",
    "    return fun(h*(k-1) + h/2) * (h/2)\n",
    "end"
   ]
  },
  {
   "cell_type": "code",
   "execution_count": 61,
   "id": "c435ac2e",
   "metadata": {
    "scrolled": true
   },
   "outputs": [
    {
     "data": {
      "text/plain": [
       "right_hand_side (generic function with 1 method)"
      ]
     },
     "execution_count": 61,
     "metadata": {},
     "output_type": "execute_result"
    }
   ],
   "source": [
    "function right_hand_side(i, fun, ϕ, total_nodes, h)\n",
    "    rv = Array{Float64}(undef, total_nodes)\n",
    "    for j in 1:total_nodes\n",
    "        rv[j] = simpson_rule_f(h*(j-1), h, fun, ϕ)\n",
    "    end\n",
    "    return rv\n",
    "end"
   ]
  },
  {
   "cell_type": "code",
   "execution_count": 62,
   "id": "c3cccd09",
   "metadata": {
    "scrolled": true
   },
   "outputs": [
    {
     "data": {
      "text/plain": [
       "finite_elements (generic function with 3 methods)"
      ]
     },
     "execution_count": 62,
     "metadata": {},
     "output_type": "execute_result"
    }
   ],
   "source": [
    "function finite_elements(nelem, fun, ϕ, ϕ_prime; method=\"linear\")\n",
    "    @assert (method in [\"linear\", \"quad\"])\n",
    "    h = 1/nelem\n",
    "    nodes_by_element = 2\n",
    "    total_nodes = nelem*(nodes_by_element-1) + 1\n",
    "    F = zeros(nelem + 1)\n",
    "    # local matrix\n",
    "    local_matrix = zeros(nodes_by_element, nodes_by_element)\n",
    "    for i in 1:nodes_by_element, j in 1:nodes_by_element\n",
    "        local_matrix[i, j] = simpson_rule_l(i, j, ϕ_prime)\n",
    "    end\n",
    "\n",
    "    # global matrix\n",
    "    global_matrix = zeros(nelem+1, nelem+1)\n",
    "    for i in 1:nelem\n",
    "        nodes_ix = get_nodes_ix(nodes_by_element, i)\n",
    "        i1, i2 = nodes_ix[1], nodes_ix[2]\n",
    "        global_matrix[i1:i2, i1:i2] = global_matrix[i1:i2, i1:i2] + local_matrix\n",
    "        \n",
    "        # right-hand side\n",
    "        F[i] = F[i] .+ right_hand_side(i, fun, ϕ, total_nodes, h)\n",
    "    end\n",
    "    F[1], F[end] = 0, 0\n",
    "    global_matrix = global_matrix .* h\n",
    "    \n",
    "    # border conditions\n",
    "    global_matrix[2:end, 1] .= 0\n",
    "    global_matrix[1, 2:end] .= 0\n",
    "    global_matrix[1, 1] = 1\n",
    "    \n",
    "    global_matrix[1:end-1, end] .= 0\n",
    "    global_matrix[end, 1:end-1] .= 0\n",
    "    global_matrix[end, end] = 1\n",
    "    return global_matrix\n",
    "end"
   ]
  },
  {
   "cell_type": "code",
   "execution_count": 63,
   "id": "32415d43",
   "metadata": {},
   "outputs": [
    {
     "ename": "LoadError",
     "evalue": "MethodError: objects of type Matrix{Function} are not callable\nUse square brackets [] for indexing an Array.",
     "output_type": "error",
     "traceback": [
      "MethodError: objects of type Matrix{Function} are not callable\nUse square brackets [] for indexing an Array.",
      "",
      "Stacktrace:",
      "  [1] _broadcast_getindex_evalf",
      "    @ ./broadcast.jl:648 [inlined]",
      "  [2] _broadcast_getindex",
      "    @ ./broadcast.jl:621 [inlined]",
      "  [3] _getindex",
      "    @ ./broadcast.jl:645 [inlined]",
      "  [4] _getindex",
      "    @ ./broadcast.jl:644 [inlined]",
      "  [5] _broadcast_getindex",
      "    @ ./broadcast.jl:620 [inlined]",
      "  [6] getindex",
      "    @ ./broadcast.jl:575 [inlined]",
      "  [7] copy",
      "    @ ./broadcast.jl:922 [inlined]",
      "  [8] materialize(bc::Base.Broadcast.Broadcasted{Base.Broadcast.DefaultArrayStyle{2}, Nothing, typeof(*), Tuple{Base.Broadcast.Broadcasted{Base.Broadcast.DefaultArrayStyle{2}, Nothing, var\"#87#88\", Tuple{Base.Broadcast.Broadcasted{Base.Broadcast.DefaultArrayStyle{2}, Nothing, typeof(/), Tuple{Base.Broadcast.Broadcasted{Base.Broadcast.DefaultArrayStyle{2}, Nothing, typeof(-), Tuple{Matrix{Float64}, Float64}}, Float64}}}}, Base.Broadcast.Broadcasted{Base.Broadcast.DefaultArrayStyle{2}, Nothing, Matrix{Function}, Tuple{Matrix{Float64}}}}})",
      "    @ Base.Broadcast ./broadcast.jl:883",
      "  [9] simpson_rule_f(x0::Float64, h::Float64, fun::Function, v::Matrix{Function})",
      "    @ Main ./In[41]:4",
      " [10] right_hand_side(i::Int64, fun::Function, ϕ::Matrix{Function}, total_nodes::Int64, h::Float64)",
      "    @ Main ./In[61]:4",
      " [11] finite_elements(nelem::Int64, fun::Function, ϕ::Matrix{Function}, ϕ_prime::Matrix{Function}; method::String)",
      "    @ Main ./In[62]:21",
      " [12] finite_elements(nelem::Int64, fun::Function, ϕ::Matrix{Function}, ϕ_prime::Matrix{Function})",
      "    @ Main ./In[62]:2",
      " [13] top-level scope",
      "    @ In[63]:11",
      " [14] eval",
      "    @ ./boot.jl:360 [inlined]",
      " [15] include_string(mapexpr::typeof(REPL.softscope), mod::Module, code::String, filename::String)",
      "    @ Base ./loading.jl:1116"
     ]
    }
   ],
   "source": [
    "ϕ_1 = x -> x\n",
    "ϕ_2 = x -> 1 - x\n",
    "ϕ = [ϕ_1 ϕ_2]\n",
    "\n",
    "ϕ_1_prime = x -> -1\n",
    "ϕ_2_prime = x -> 1\n",
    "ϕ_prime = [ϕ_1_prime ϕ_2_prime]\n",
    "\n",
    "f = x -> 1\n",
    "\n",
    "finite_elements(4, f, ϕ, ϕ_prime)"
   ]
  },
  {
   "cell_type": "code",
   "execution_count": 23,
   "id": "7e6c3b34",
   "metadata": {},
   "outputs": [
    {
     "data": {
      "text/plain": [
       "true"
      ]
     },
     "execution_count": 23,
     "metadata": {},
     "output_type": "execute_result"
    }
   ],
   "source": [
    "q = \"quad\"\n",
    "q in [\"linear\", \"quad\"]"
   ]
  },
  {
   "cell_type": "code",
   "execution_count": null,
   "id": "5d7bc5fd",
   "metadata": {},
   "outputs": [],
   "source": []
  }
 ],
 "metadata": {
  "kernelspec": {
   "display_name": "Julia 1.6.3",
   "language": "julia",
   "name": "julia-1.6"
  },
  "language_info": {
   "file_extension": ".jl",
   "mimetype": "application/julia",
   "name": "julia",
   "version": "1.6.3"
  }
 },
 "nbformat": 4,
 "nbformat_minor": 5
}
